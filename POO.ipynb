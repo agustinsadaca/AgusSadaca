{
 "cells": [
  {
   "cell_type": "code",
   "execution_count": 1,
   "metadata": {},
   "outputs": [
    {
     "data": {
      "text/plain": [
       "1.6"
      ]
     },
     "execution_count": 1,
     "metadata": {},
     "output_type": "execute_result"
    }
   ],
   "source": [
    "class Line:\n",
    "    def __init__(self,coord1,coord2):\n",
    "        self.coord1=coord1\n",
    "        self.coord2=coord2\n",
    "    def distancia(self):\n",
    "        x1,y1=self.coord1\n",
    "        x2,y2=self.coord2\n",
    "        d=((x2-x1)**2+(y2-y1)**2)**1/2\n",
    "        return d\n",
    "    def pendiente(self):\n",
    "        x1,y1=self.coord1\n",
    "        x2,y2=self.coord2\n",
    "        m=(y2-y1)/(x2-x1)\n",
    "        return m\n",
    "coordinate1 = (3,2)\n",
    "coordinate2 = (8,10)\n",
    "\n",
    "li = Line(coordinate1,coordinate2)\n",
    "li.distancia()\n",
    "li.pendiente()"
   ]
  },
  {
   "cell_type": "code",
   "execution_count": 4,
   "metadata": {},
   "outputs": [
    {
     "data": {
      "text/plain": [
       "3"
      ]
     },
     "execution_count": 4,
     "metadata": {},
     "output_type": "execute_result"
    }
   ],
   "source": [
    "hla=(1,3)\n",
    "hla[1]"
   ]
  },
  {
   "cell_type": "code",
   "execution_count": 5,
   "metadata": {},
   "outputs": [
    {
     "data": {
      "text/plain": [
       "10"
      ]
     },
     "execution_count": 5,
     "metadata": {},
     "output_type": "execute_result"
    }
   ],
   "source": [
    "10"
   ]
  },
  {
   "cell_type": "code",
   "execution_count": 6,
   "metadata": {},
   "outputs": [
    {
     "data": {
      "text/plain": [
       "5.0"
      ]
     },
     "execution_count": 6,
     "metadata": {},
     "output_type": "execute_result"
    }
   ],
   "source": [
    "10/2"
   ]
  },
  {
   "cell_type": "code",
   "execution_count": 8,
   "metadata": {},
   "outputs": [
    {
     "name": "stdout",
     "output_type": "stream",
     "text": [
      " ada 37.68 add 18.84\n"
     ]
    }
   ],
   "source": [
    "class Cylinder:\n",
    "    \n",
    "    def __init__(self,altura=1,radio=1):\n",
    "        self.altura=altura\n",
    "        self.radio=radio\n",
    "        \n",
    "    def volume(self):\n",
    "        alt=self.altura\n",
    "        rad=self.radio\n",
    "        return 2*3.14*rad*alt\n",
    "    \n",
    "    def surface_area(self):\n",
    "        rad=self.radio\n",
    "        return 2*3.14*rad\n",
    "c = Cylinder(2,3)\n",
    "print(f\" ada {c.volume()} add {c.surface_area()}\")\n"
   ]
  },
  {
   "cell_type": "code",
   "execution_count": 14,
   "metadata": {},
   "outputs": [
    {
     "data": {
      "text/plain": [
       "50"
      ]
     },
     "execution_count": 14,
     "metadata": {},
     "output_type": "execute_result"
    }
   ],
   "source": [
    "class Account:\n",
    "    def __init__(self,propietario,balance=0):\n",
    "        self.propietario=propietario\n",
    "        self.balance=balance\n",
    "    def depositar(self,d):\n",
    "        self.balance+=d\n",
    "        return self.balance\n",
    "    def retirar(self,r):\n",
    "        if self.balance-r>=0:\n",
    "            return self.balance-r\n",
    "        else:\n",
    "            print('fondo insuficiento perro')\n",
    "    \n",
    "cuenta=Account('jose',100)\n",
    "cuenta.depositar(100)\n",
    "cuenta.retirar(150)\n",
    "              "
   ]
  },
  {
   "cell_type": "code",
   "execution_count": null,
   "metadata": {},
   "outputs": [],
   "source": []
  }
 ],
 "metadata": {
  "kernelspec": {
   "display_name": "Python 3",
   "language": "python",
   "name": "python3"
  },
  "language_info": {
   "codemirror_mode": {
    "name": "ipython",
    "version": 3
   },
   "file_extension": ".py",
   "mimetype": "text/x-python",
   "name": "python",
   "nbconvert_exporter": "python",
   "pygments_lexer": "ipython3",
   "version": "3.7.6"
  }
 },
 "nbformat": 4,
 "nbformat_minor": 4
}
